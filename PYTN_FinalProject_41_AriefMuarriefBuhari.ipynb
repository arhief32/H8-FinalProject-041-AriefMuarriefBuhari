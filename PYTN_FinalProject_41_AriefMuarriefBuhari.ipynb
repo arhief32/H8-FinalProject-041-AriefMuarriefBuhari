{
 "cells": [
  {
   "cell_type": "markdown",
   "metadata": {},
   "source": [
    "# FINAL PROJECT\n",
    "# INTRODUCING PYTHON FOR DATA SCIENCE"
   ]
  },
  {
   "cell_type": "markdown",
   "metadata": {},
   "source": [
    "## EPL Results 1993-2018"
   ]
  },
  {
   "cell_type": "markdown",
   "metadata": {},
   "source": [
    "### Pengantar"
   ]
  },
  {
   "cell_type": "markdown",
   "metadata": {},
   "source": [
    "Kumpulan data ini berisi hasil dari setiap pertandingan Liga Premier dari 1993-1994 hingga 2017-2018.\n",
    "\n",
    "Ini juga termasuk hasil paruh waktu, tetapi hanya dari 1995-96 hingga 2017-18.\n",
    "\n",
    "Sumber data berasal dari Kaggle."
   ]
  },
  {
   "cell_type": "markdown",
   "metadata": {},
   "source": [
    "### Import Library"
   ]
  },
  {
   "cell_type": "code",
   "execution_count": 3,
   "metadata": {},
   "outputs": [],
   "source": [
    "import matplotlib.pyplot as plt\n",
    "%matplotlib inline\n",
    "import numpy as np\n",
    "import pandas as pd\n",
    "pd.set_option('display.max_columns', 21)\n",
    "import seaborn as sns\n",
    "from scipy import stats\n",
    "\n",
    "from sklearn.model_selection import train_test_split\n",
    "from sklearn.preprocessing import LabelEncoder, StandardScaler\n",
    "from sklearn.metrics import classification_report, confusion_matrix, r2_score\n",
    "from sklearn.linear_model import LinearRegression, LogisticRegression\n",
    "from sklearn.neighbors import KNeighborsClassifier, KNeighborsRegressor\n",
    "from sklearn.svm import SVC\n",
    "from sklearn.tree import DecisionTreeClassifier, DecisionTreeRegressor\n",
    "from sklearn.ensemble import RandomForestClassifier, RandomForestRegressor\n",
    "from sklearn.naive_bayes import GaussianNB"
   ]
  },
  {
   "cell_type": "markdown",
   "metadata": {},
   "source": [
    "Dataset ini memiliki kolom:\n",
    "Kolom termasuk Divisi (dilambangkan sebagai E0), \n",
    "<!-- Tim Tuan Rumah, \n",
    "Tim Tamu, \n",
    "FTHG (gol kandang terakhir kali), \n",
    "FTAG (gol tandang waktu terakhir), \n",
    "FTR (hasil waktu penuh), \n",
    "HTHG (gol kandang paruh waktu), \n",
    "HTAG (gol tandang paruh waktu) ), \n",
    "HTR (hasil paruh waktu), dan musim. -->\n",
    "- `Div` : Divisi, dilambangkan sebagai E0\n",
    "- `HomeTeam` : Tim tuan rumah\n",
    "- `AwayTeam` : Tim tamu\n",
    "- `FTHG` : Gol kandang akhir waktu\n",
    "- `FTAG` : Gol tandang akhir waktu\n",
    "- `FTR` : Hasil pertandingan hingga selesai\n",
    "- `HTHG` : Gol kandang paruh waktu\n",
    "- `HTAG` : Gol tandang paruh waktu\n",
    "- `HTR` : Hasil paruh waktu\n",
    "- `season` : Musim"
   ]
  },
  {
   "cell_type": "code",
   "execution_count": 16,
   "metadata": {},
   "outputs": [
    {
     "data": {
      "text/html": [
       "<div>\n",
       "<style scoped>\n",
       "    .dataframe tbody tr th:only-of-type {\n",
       "        vertical-align: middle;\n",
       "    }\n",
       "\n",
       "    .dataframe tbody tr th {\n",
       "        vertical-align: top;\n",
       "    }\n",
       "\n",
       "    .dataframe thead th {\n",
       "        text-align: right;\n",
       "    }\n",
       "</style>\n",
       "<table border=\"1\" class=\"dataframe\">\n",
       "  <thead>\n",
       "    <tr style=\"text-align: right;\">\n",
       "      <th></th>\n",
       "      <th>Div</th>\n",
       "      <th>Date</th>\n",
       "      <th>HomeTeam</th>\n",
       "      <th>AwayTeam</th>\n",
       "      <th>FTHG</th>\n",
       "      <th>FTAG</th>\n",
       "      <th>FTR</th>\n",
       "      <th>HTHG</th>\n",
       "      <th>HTAG</th>\n",
       "      <th>HTR</th>\n",
       "      <th>Season</th>\n",
       "    </tr>\n",
       "  </thead>\n",
       "  <tbody>\n",
       "    <tr>\n",
       "      <th>0</th>\n",
       "      <td>E0</td>\n",
       "      <td>14/08/93</td>\n",
       "      <td>Arsenal</td>\n",
       "      <td>Coventry</td>\n",
       "      <td>0</td>\n",
       "      <td>3</td>\n",
       "      <td>A</td>\n",
       "      <td>NaN</td>\n",
       "      <td>NaN</td>\n",
       "      <td>NaN</td>\n",
       "      <td>1993-94</td>\n",
       "    </tr>\n",
       "    <tr>\n",
       "      <th>1</th>\n",
       "      <td>E0</td>\n",
       "      <td>14/08/93</td>\n",
       "      <td>Aston Villa</td>\n",
       "      <td>QPR</td>\n",
       "      <td>4</td>\n",
       "      <td>1</td>\n",
       "      <td>H</td>\n",
       "      <td>NaN</td>\n",
       "      <td>NaN</td>\n",
       "      <td>NaN</td>\n",
       "      <td>1993-94</td>\n",
       "    </tr>\n",
       "    <tr>\n",
       "      <th>2</th>\n",
       "      <td>E0</td>\n",
       "      <td>14/08/93</td>\n",
       "      <td>Chelsea</td>\n",
       "      <td>Blackburn</td>\n",
       "      <td>1</td>\n",
       "      <td>2</td>\n",
       "      <td>A</td>\n",
       "      <td>NaN</td>\n",
       "      <td>NaN</td>\n",
       "      <td>NaN</td>\n",
       "      <td>1993-94</td>\n",
       "    </tr>\n",
       "    <tr>\n",
       "      <th>3</th>\n",
       "      <td>E0</td>\n",
       "      <td>14/08/93</td>\n",
       "      <td>Liverpool</td>\n",
       "      <td>Sheffield Weds</td>\n",
       "      <td>2</td>\n",
       "      <td>0</td>\n",
       "      <td>H</td>\n",
       "      <td>NaN</td>\n",
       "      <td>NaN</td>\n",
       "      <td>NaN</td>\n",
       "      <td>1993-94</td>\n",
       "    </tr>\n",
       "    <tr>\n",
       "      <th>4</th>\n",
       "      <td>E0</td>\n",
       "      <td>14/08/93</td>\n",
       "      <td>Man City</td>\n",
       "      <td>Leeds</td>\n",
       "      <td>1</td>\n",
       "      <td>1</td>\n",
       "      <td>D</td>\n",
       "      <td>NaN</td>\n",
       "      <td>NaN</td>\n",
       "      <td>NaN</td>\n",
       "      <td>1993-94</td>\n",
       "    </tr>\n",
       "    <tr>\n",
       "      <th>...</th>\n",
       "      <td>...</td>\n",
       "      <td>...</td>\n",
       "      <td>...</td>\n",
       "      <td>...</td>\n",
       "      <td>...</td>\n",
       "      <td>...</td>\n",
       "      <td>...</td>\n",
       "      <td>...</td>\n",
       "      <td>...</td>\n",
       "      <td>...</td>\n",
       "      <td>...</td>\n",
       "    </tr>\n",
       "    <tr>\n",
       "      <th>9659</th>\n",
       "      <td>E0</td>\n",
       "      <td>13/05/18</td>\n",
       "      <td>Newcastle</td>\n",
       "      <td>Chelsea</td>\n",
       "      <td>3</td>\n",
       "      <td>0</td>\n",
       "      <td>H</td>\n",
       "      <td>1.0</td>\n",
       "      <td>0.0</td>\n",
       "      <td>H</td>\n",
       "      <td>2017-18</td>\n",
       "    </tr>\n",
       "    <tr>\n",
       "      <th>9660</th>\n",
       "      <td>E0</td>\n",
       "      <td>13/05/18</td>\n",
       "      <td>Southampton</td>\n",
       "      <td>Man City</td>\n",
       "      <td>0</td>\n",
       "      <td>1</td>\n",
       "      <td>A</td>\n",
       "      <td>0.0</td>\n",
       "      <td>0.0</td>\n",
       "      <td>D</td>\n",
       "      <td>2017-18</td>\n",
       "    </tr>\n",
       "    <tr>\n",
       "      <th>9661</th>\n",
       "      <td>E0</td>\n",
       "      <td>13/05/18</td>\n",
       "      <td>Swansea</td>\n",
       "      <td>Stoke</td>\n",
       "      <td>1</td>\n",
       "      <td>2</td>\n",
       "      <td>A</td>\n",
       "      <td>1.0</td>\n",
       "      <td>2.0</td>\n",
       "      <td>A</td>\n",
       "      <td>2017-18</td>\n",
       "    </tr>\n",
       "    <tr>\n",
       "      <th>9662</th>\n",
       "      <td>E0</td>\n",
       "      <td>13/05/18</td>\n",
       "      <td>Tottenham</td>\n",
       "      <td>Leicester</td>\n",
       "      <td>5</td>\n",
       "      <td>4</td>\n",
       "      <td>H</td>\n",
       "      <td>1.0</td>\n",
       "      <td>2.0</td>\n",
       "      <td>A</td>\n",
       "      <td>2017-18</td>\n",
       "    </tr>\n",
       "    <tr>\n",
       "      <th>9663</th>\n",
       "      <td>E0</td>\n",
       "      <td>13/05/18</td>\n",
       "      <td>West Ham</td>\n",
       "      <td>Everton</td>\n",
       "      <td>3</td>\n",
       "      <td>1</td>\n",
       "      <td>H</td>\n",
       "      <td>1.0</td>\n",
       "      <td>0.0</td>\n",
       "      <td>H</td>\n",
       "      <td>2017-18</td>\n",
       "    </tr>\n",
       "  </tbody>\n",
       "</table>\n",
       "<p>9664 rows × 11 columns</p>\n",
       "</div>"
      ],
      "text/plain": [
       "     Div      Date     HomeTeam        AwayTeam  FTHG  FTAG FTR  HTHG  HTAG  \\\n",
       "0     E0  14/08/93      Arsenal        Coventry     0     3   A   NaN   NaN   \n",
       "1     E0  14/08/93  Aston Villa             QPR     4     1   H   NaN   NaN   \n",
       "2     E0  14/08/93      Chelsea       Blackburn     1     2   A   NaN   NaN   \n",
       "3     E0  14/08/93    Liverpool  Sheffield Weds     2     0   H   NaN   NaN   \n",
       "4     E0  14/08/93     Man City           Leeds     1     1   D   NaN   NaN   \n",
       "...   ..       ...          ...             ...   ...   ...  ..   ...   ...   \n",
       "9659  E0  13/05/18    Newcastle         Chelsea     3     0   H   1.0   0.0   \n",
       "9660  E0  13/05/18  Southampton        Man City     0     1   A   0.0   0.0   \n",
       "9661  E0  13/05/18      Swansea           Stoke     1     2   A   1.0   2.0   \n",
       "9662  E0  13/05/18    Tottenham       Leicester     5     4   H   1.0   2.0   \n",
       "9663  E0  13/05/18     West Ham         Everton     3     1   H   1.0   0.0   \n",
       "\n",
       "      HTR   Season  \n",
       "0     NaN  1993-94  \n",
       "1     NaN  1993-94  \n",
       "2     NaN  1993-94  \n",
       "3     NaN  1993-94  \n",
       "4     NaN  1993-94  \n",
       "...   ...      ...  \n",
       "9659    H  2017-18  \n",
       "9660    D  2017-18  \n",
       "9661    A  2017-18  \n",
       "9662    A  2017-18  \n",
       "9663    H  2017-18  \n",
       "\n",
       "[9664 rows x 11 columns]"
      ]
     },
     "execution_count": 16,
     "metadata": {},
     "output_type": "execute_result"
    }
   ],
   "source": [
    "dataset = pd.read_csv('dataset/EPL_Set.csv')\n",
    "dataset"
   ]
  },
  {
   "cell_type": "code",
   "execution_count": 17,
   "metadata": {},
   "outputs": [
    {
     "data": {
      "text/html": [
       "<div>\n",
       "<style scoped>\n",
       "    .dataframe tbody tr th:only-of-type {\n",
       "        vertical-align: middle;\n",
       "    }\n",
       "\n",
       "    .dataframe tbody tr th {\n",
       "        vertical-align: top;\n",
       "    }\n",
       "\n",
       "    .dataframe thead th {\n",
       "        text-align: right;\n",
       "    }\n",
       "</style>\n",
       "<table border=\"1\" class=\"dataframe\">\n",
       "  <thead>\n",
       "    <tr style=\"text-align: right;\">\n",
       "      <th></th>\n",
       "      <th>Div</th>\n",
       "      <th>Date</th>\n",
       "      <th>HomeTeam</th>\n",
       "      <th>AwayTeam</th>\n",
       "      <th>FTHG</th>\n",
       "      <th>FTAG</th>\n",
       "      <th>FTR</th>\n",
       "      <th>HTHG</th>\n",
       "      <th>HTAG</th>\n",
       "      <th>HTR</th>\n",
       "      <th>Season</th>\n",
       "    </tr>\n",
       "  </thead>\n",
       "  <tbody>\n",
       "    <tr>\n",
       "      <th>0</th>\n",
       "      <td>E0</td>\n",
       "      <td>14/08/93</td>\n",
       "      <td>Arsenal</td>\n",
       "      <td>Coventry</td>\n",
       "      <td>0</td>\n",
       "      <td>3</td>\n",
       "      <td>A</td>\n",
       "      <td>NaN</td>\n",
       "      <td>NaN</td>\n",
       "      <td>NaN</td>\n",
       "      <td>1993-94</td>\n",
       "    </tr>\n",
       "    <tr>\n",
       "      <th>1</th>\n",
       "      <td>E0</td>\n",
       "      <td>14/08/93</td>\n",
       "      <td>Aston Villa</td>\n",
       "      <td>QPR</td>\n",
       "      <td>4</td>\n",
       "      <td>1</td>\n",
       "      <td>H</td>\n",
       "      <td>NaN</td>\n",
       "      <td>NaN</td>\n",
       "      <td>NaN</td>\n",
       "      <td>1993-94</td>\n",
       "    </tr>\n",
       "    <tr>\n",
       "      <th>2</th>\n",
       "      <td>E0</td>\n",
       "      <td>14/08/93</td>\n",
       "      <td>Chelsea</td>\n",
       "      <td>Blackburn</td>\n",
       "      <td>1</td>\n",
       "      <td>2</td>\n",
       "      <td>A</td>\n",
       "      <td>NaN</td>\n",
       "      <td>NaN</td>\n",
       "      <td>NaN</td>\n",
       "      <td>1993-94</td>\n",
       "    </tr>\n",
       "    <tr>\n",
       "      <th>3</th>\n",
       "      <td>E0</td>\n",
       "      <td>14/08/93</td>\n",
       "      <td>Liverpool</td>\n",
       "      <td>Sheffield Weds</td>\n",
       "      <td>2</td>\n",
       "      <td>0</td>\n",
       "      <td>H</td>\n",
       "      <td>NaN</td>\n",
       "      <td>NaN</td>\n",
       "      <td>NaN</td>\n",
       "      <td>1993-94</td>\n",
       "    </tr>\n",
       "    <tr>\n",
       "      <th>4</th>\n",
       "      <td>E0</td>\n",
       "      <td>14/08/93</td>\n",
       "      <td>Man City</td>\n",
       "      <td>Leeds</td>\n",
       "      <td>1</td>\n",
       "      <td>1</td>\n",
       "      <td>D</td>\n",
       "      <td>NaN</td>\n",
       "      <td>NaN</td>\n",
       "      <td>NaN</td>\n",
       "      <td>1993-94</td>\n",
       "    </tr>\n",
       "    <tr>\n",
       "      <th>5</th>\n",
       "      <td>E0</td>\n",
       "      <td>14/08/93</td>\n",
       "      <td>Newcastle</td>\n",
       "      <td>Tottenham</td>\n",
       "      <td>0</td>\n",
       "      <td>1</td>\n",
       "      <td>A</td>\n",
       "      <td>NaN</td>\n",
       "      <td>NaN</td>\n",
       "      <td>NaN</td>\n",
       "      <td>1993-94</td>\n",
       "    </tr>\n",
       "    <tr>\n",
       "      <th>6</th>\n",
       "      <td>E0</td>\n",
       "      <td>14/08/93</td>\n",
       "      <td>Oldham</td>\n",
       "      <td>Ipswich</td>\n",
       "      <td>0</td>\n",
       "      <td>3</td>\n",
       "      <td>A</td>\n",
       "      <td>NaN</td>\n",
       "      <td>NaN</td>\n",
       "      <td>NaN</td>\n",
       "      <td>1993-94</td>\n",
       "    </tr>\n",
       "    <tr>\n",
       "      <th>7</th>\n",
       "      <td>E0</td>\n",
       "      <td>14/08/93</td>\n",
       "      <td>Sheffield United</td>\n",
       "      <td>Swindon</td>\n",
       "      <td>3</td>\n",
       "      <td>1</td>\n",
       "      <td>H</td>\n",
       "      <td>NaN</td>\n",
       "      <td>NaN</td>\n",
       "      <td>NaN</td>\n",
       "      <td>1993-94</td>\n",
       "    </tr>\n",
       "    <tr>\n",
       "      <th>8</th>\n",
       "      <td>E0</td>\n",
       "      <td>14/08/93</td>\n",
       "      <td>Southampton</td>\n",
       "      <td>Everton</td>\n",
       "      <td>0</td>\n",
       "      <td>2</td>\n",
       "      <td>A</td>\n",
       "      <td>NaN</td>\n",
       "      <td>NaN</td>\n",
       "      <td>NaN</td>\n",
       "      <td>1993-94</td>\n",
       "    </tr>\n",
       "    <tr>\n",
       "      <th>9</th>\n",
       "      <td>E0</td>\n",
       "      <td>14/08/93</td>\n",
       "      <td>West Ham</td>\n",
       "      <td>Wimbledon</td>\n",
       "      <td>0</td>\n",
       "      <td>2</td>\n",
       "      <td>A</td>\n",
       "      <td>NaN</td>\n",
       "      <td>NaN</td>\n",
       "      <td>NaN</td>\n",
       "      <td>1993-94</td>\n",
       "    </tr>\n",
       "  </tbody>\n",
       "</table>\n",
       "</div>"
      ],
      "text/plain": [
       "  Div      Date          HomeTeam        AwayTeam  FTHG  FTAG FTR  HTHG  HTAG  \\\n",
       "0  E0  14/08/93           Arsenal        Coventry     0     3   A   NaN   NaN   \n",
       "1  E0  14/08/93       Aston Villa             QPR     4     1   H   NaN   NaN   \n",
       "2  E0  14/08/93           Chelsea       Blackburn     1     2   A   NaN   NaN   \n",
       "3  E0  14/08/93         Liverpool  Sheffield Weds     2     0   H   NaN   NaN   \n",
       "4  E0  14/08/93          Man City           Leeds     1     1   D   NaN   NaN   \n",
       "5  E0  14/08/93         Newcastle       Tottenham     0     1   A   NaN   NaN   \n",
       "6  E0  14/08/93            Oldham         Ipswich     0     3   A   NaN   NaN   \n",
       "7  E0  14/08/93  Sheffield United         Swindon     3     1   H   NaN   NaN   \n",
       "8  E0  14/08/93       Southampton         Everton     0     2   A   NaN   NaN   \n",
       "9  E0  14/08/93          West Ham       Wimbledon     0     2   A   NaN   NaN   \n",
       "\n",
       "   HTR   Season  \n",
       "0  NaN  1993-94  \n",
       "1  NaN  1993-94  \n",
       "2  NaN  1993-94  \n",
       "3  NaN  1993-94  \n",
       "4  NaN  1993-94  \n",
       "5  NaN  1993-94  \n",
       "6  NaN  1993-94  \n",
       "7  NaN  1993-94  \n",
       "8  NaN  1993-94  \n",
       "9  NaN  1993-94  "
      ]
     },
     "execution_count": 17,
     "metadata": {},
     "output_type": "execute_result"
    }
   ],
   "source": [
    "dataset.head(10)"
   ]
  },
  {
   "cell_type": "code",
   "execution_count": 18,
   "metadata": {},
   "outputs": [
    {
     "data": {
      "text/html": [
       "<div>\n",
       "<style scoped>\n",
       "    .dataframe tbody tr th:only-of-type {\n",
       "        vertical-align: middle;\n",
       "    }\n",
       "\n",
       "    .dataframe tbody tr th {\n",
       "        vertical-align: top;\n",
       "    }\n",
       "\n",
       "    .dataframe thead th {\n",
       "        text-align: right;\n",
       "    }\n",
       "</style>\n",
       "<table border=\"1\" class=\"dataframe\">\n",
       "  <thead>\n",
       "    <tr style=\"text-align: right;\">\n",
       "      <th></th>\n",
       "      <th>Div</th>\n",
       "      <th>Date</th>\n",
       "      <th>HomeTeam</th>\n",
       "      <th>AwayTeam</th>\n",
       "      <th>FTHG</th>\n",
       "      <th>FTAG</th>\n",
       "      <th>FTR</th>\n",
       "      <th>HTHG</th>\n",
       "      <th>HTAG</th>\n",
       "      <th>HTR</th>\n",
       "      <th>Season</th>\n",
       "    </tr>\n",
       "  </thead>\n",
       "  <tbody>\n",
       "    <tr>\n",
       "      <th>9654</th>\n",
       "      <td>E0</td>\n",
       "      <td>13/05/18</td>\n",
       "      <td>Burnley</td>\n",
       "      <td>Bournemouth</td>\n",
       "      <td>1</td>\n",
       "      <td>2</td>\n",
       "      <td>A</td>\n",
       "      <td>1.0</td>\n",
       "      <td>0.0</td>\n",
       "      <td>H</td>\n",
       "      <td>2017-18</td>\n",
       "    </tr>\n",
       "    <tr>\n",
       "      <th>9655</th>\n",
       "      <td>E0</td>\n",
       "      <td>13/05/18</td>\n",
       "      <td>Crystal Palace</td>\n",
       "      <td>West Brom</td>\n",
       "      <td>2</td>\n",
       "      <td>0</td>\n",
       "      <td>H</td>\n",
       "      <td>0.0</td>\n",
       "      <td>0.0</td>\n",
       "      <td>D</td>\n",
       "      <td>2017-18</td>\n",
       "    </tr>\n",
       "    <tr>\n",
       "      <th>9656</th>\n",
       "      <td>E0</td>\n",
       "      <td>13/05/18</td>\n",
       "      <td>Huddersfield</td>\n",
       "      <td>Arsenal</td>\n",
       "      <td>0</td>\n",
       "      <td>1</td>\n",
       "      <td>A</td>\n",
       "      <td>0.0</td>\n",
       "      <td>1.0</td>\n",
       "      <td>A</td>\n",
       "      <td>2017-18</td>\n",
       "    </tr>\n",
       "    <tr>\n",
       "      <th>9657</th>\n",
       "      <td>E0</td>\n",
       "      <td>13/05/18</td>\n",
       "      <td>Liverpool</td>\n",
       "      <td>Brighton</td>\n",
       "      <td>4</td>\n",
       "      <td>0</td>\n",
       "      <td>H</td>\n",
       "      <td>2.0</td>\n",
       "      <td>0.0</td>\n",
       "      <td>H</td>\n",
       "      <td>2017-18</td>\n",
       "    </tr>\n",
       "    <tr>\n",
       "      <th>9658</th>\n",
       "      <td>E0</td>\n",
       "      <td>13/05/18</td>\n",
       "      <td>Man United</td>\n",
       "      <td>Watford</td>\n",
       "      <td>1</td>\n",
       "      <td>0</td>\n",
       "      <td>H</td>\n",
       "      <td>1.0</td>\n",
       "      <td>0.0</td>\n",
       "      <td>H</td>\n",
       "      <td>2017-18</td>\n",
       "    </tr>\n",
       "    <tr>\n",
       "      <th>9659</th>\n",
       "      <td>E0</td>\n",
       "      <td>13/05/18</td>\n",
       "      <td>Newcastle</td>\n",
       "      <td>Chelsea</td>\n",
       "      <td>3</td>\n",
       "      <td>0</td>\n",
       "      <td>H</td>\n",
       "      <td>1.0</td>\n",
       "      <td>0.0</td>\n",
       "      <td>H</td>\n",
       "      <td>2017-18</td>\n",
       "    </tr>\n",
       "    <tr>\n",
       "      <th>9660</th>\n",
       "      <td>E0</td>\n",
       "      <td>13/05/18</td>\n",
       "      <td>Southampton</td>\n",
       "      <td>Man City</td>\n",
       "      <td>0</td>\n",
       "      <td>1</td>\n",
       "      <td>A</td>\n",
       "      <td>0.0</td>\n",
       "      <td>0.0</td>\n",
       "      <td>D</td>\n",
       "      <td>2017-18</td>\n",
       "    </tr>\n",
       "    <tr>\n",
       "      <th>9661</th>\n",
       "      <td>E0</td>\n",
       "      <td>13/05/18</td>\n",
       "      <td>Swansea</td>\n",
       "      <td>Stoke</td>\n",
       "      <td>1</td>\n",
       "      <td>2</td>\n",
       "      <td>A</td>\n",
       "      <td>1.0</td>\n",
       "      <td>2.0</td>\n",
       "      <td>A</td>\n",
       "      <td>2017-18</td>\n",
       "    </tr>\n",
       "    <tr>\n",
       "      <th>9662</th>\n",
       "      <td>E0</td>\n",
       "      <td>13/05/18</td>\n",
       "      <td>Tottenham</td>\n",
       "      <td>Leicester</td>\n",
       "      <td>5</td>\n",
       "      <td>4</td>\n",
       "      <td>H</td>\n",
       "      <td>1.0</td>\n",
       "      <td>2.0</td>\n",
       "      <td>A</td>\n",
       "      <td>2017-18</td>\n",
       "    </tr>\n",
       "    <tr>\n",
       "      <th>9663</th>\n",
       "      <td>E0</td>\n",
       "      <td>13/05/18</td>\n",
       "      <td>West Ham</td>\n",
       "      <td>Everton</td>\n",
       "      <td>3</td>\n",
       "      <td>1</td>\n",
       "      <td>H</td>\n",
       "      <td>1.0</td>\n",
       "      <td>0.0</td>\n",
       "      <td>H</td>\n",
       "      <td>2017-18</td>\n",
       "    </tr>\n",
       "  </tbody>\n",
       "</table>\n",
       "</div>"
      ],
      "text/plain": [
       "     Div      Date        HomeTeam     AwayTeam  FTHG  FTAG FTR  HTHG  HTAG  \\\n",
       "9654  E0  13/05/18         Burnley  Bournemouth     1     2   A   1.0   0.0   \n",
       "9655  E0  13/05/18  Crystal Palace    West Brom     2     0   H   0.0   0.0   \n",
       "9656  E0  13/05/18    Huddersfield      Arsenal     0     1   A   0.0   1.0   \n",
       "9657  E0  13/05/18       Liverpool     Brighton     4     0   H   2.0   0.0   \n",
       "9658  E0  13/05/18      Man United      Watford     1     0   H   1.0   0.0   \n",
       "9659  E0  13/05/18       Newcastle      Chelsea     3     0   H   1.0   0.0   \n",
       "9660  E0  13/05/18     Southampton     Man City     0     1   A   0.0   0.0   \n",
       "9661  E0  13/05/18         Swansea        Stoke     1     2   A   1.0   2.0   \n",
       "9662  E0  13/05/18       Tottenham    Leicester     5     4   H   1.0   2.0   \n",
       "9663  E0  13/05/18        West Ham      Everton     3     1   H   1.0   0.0   \n",
       "\n",
       "     HTR   Season  \n",
       "9654   H  2017-18  \n",
       "9655   D  2017-18  \n",
       "9656   A  2017-18  \n",
       "9657   H  2017-18  \n",
       "9658   H  2017-18  \n",
       "9659   H  2017-18  \n",
       "9660   D  2017-18  \n",
       "9661   A  2017-18  \n",
       "9662   A  2017-18  \n",
       "9663   H  2017-18  "
      ]
     },
     "execution_count": 18,
     "metadata": {},
     "output_type": "execute_result"
    }
   ],
   "source": [
    "dataset.tail(10)"
   ]
  },
  {
   "cell_type": "code",
   "execution_count": 19,
   "metadata": {},
   "outputs": [
    {
     "data": {
      "text/plain": [
       "(9664, 11)"
      ]
     },
     "execution_count": 19,
     "metadata": {},
     "output_type": "execute_result"
    }
   ],
   "source": [
    "dataset.shape"
   ]
  },
  {
   "cell_type": "code",
   "execution_count": 20,
   "metadata": {},
   "outputs": [
    {
     "name": "stdout",
     "output_type": "stream",
     "text": [
      "<class 'pandas.core.frame.DataFrame'>\n",
      "RangeIndex: 9664 entries, 0 to 9663\n",
      "Data columns (total 11 columns):\n",
      " #   Column    Non-Null Count  Dtype  \n",
      "---  ------    --------------  -----  \n",
      " 0   Div       9664 non-null   object \n",
      " 1   Date      9664 non-null   object \n",
      " 2   HomeTeam  9664 non-null   object \n",
      " 3   AwayTeam  9664 non-null   object \n",
      " 4   FTHG      9664 non-null   int64  \n",
      " 5   FTAG      9664 non-null   int64  \n",
      " 6   FTR       9664 non-null   object \n",
      " 7   HTHG      8740 non-null   float64\n",
      " 8   HTAG      8740 non-null   float64\n",
      " 9   HTR       8740 non-null   object \n",
      " 10  Season    9664 non-null   object \n",
      "dtypes: float64(2), int64(2), object(7)\n",
      "memory usage: 830.6+ KB\n"
     ]
    }
   ],
   "source": [
    "dataset.info()"
   ]
  },
  {
   "cell_type": "code",
   "execution_count": 25,
   "metadata": {},
   "outputs": [
    {
     "data": {
      "text/plain": [
       "Div           0\n",
       "Date          0\n",
       "HomeTeam      0\n",
       "AwayTeam      0\n",
       "FTHG          0\n",
       "FTAG          0\n",
       "FTR           0\n",
       "HTHG        924\n",
       "HTAG        924\n",
       "HTR         924\n",
       "Season        0\n",
       "dtype: int64"
      ]
     },
     "execution_count": 25,
     "metadata": {},
     "output_type": "execute_result"
    }
   ],
   "source": [
    "dataset.isnull().sum()"
   ]
  },
  {
   "cell_type": "code",
   "execution_count": 34,
   "metadata": {},
   "outputs": [],
   "source": [
    "dataset = dataset.drop(columns=['HTHG','HTAG','HTR'])"
   ]
  },
  {
   "cell_type": "code",
   "execution_count": 35,
   "metadata": {},
   "outputs": [
    {
     "data": {
      "text/plain": [
       "Div         0\n",
       "Date        0\n",
       "HomeTeam    0\n",
       "AwayTeam    0\n",
       "FTHG        0\n",
       "FTAG        0\n",
       "FTR         0\n",
       "Season      0\n",
       "dtype: int64"
      ]
     },
     "execution_count": 35,
     "metadata": {},
     "output_type": "execute_result"
    }
   ],
   "source": [
    "dataset.isnull().sum()"
   ]
  },
  {
   "cell_type": "markdown",
   "metadata": {},
   "source": [
    "### Exploratory Data"
   ]
  },
  {
   "cell_type": "code",
   "execution_count": 39,
   "metadata": {},
   "outputs": [
    {
     "data": {
      "text/plain": [
       "Tottenham           479\n",
       "Man United          479\n",
       "Chelsea             479\n",
       "Arsenal             479\n",
       "Everton             479\n",
       "Liverpool           479\n",
       "Aston Villa         441\n",
       "Newcastle           441\n",
       "West Ham            422\n",
       "Man City            384\n",
       "Southampton         346\n",
       "Blackburn           327\n",
       "Sunderland          304\n",
       "Middlesbrough       247\n",
       "Fulham              247\n",
       "Bolton              247\n",
       "Leicester           230\n",
       "West Brom           228\n",
       "Leeds               213\n",
       "Stoke               190\n",
       "Coventry            156\n",
       "Crystal Palace      154\n",
       "Charlton            152\n",
       "Wigan               152\n",
       "Wimbledon           137\n",
       "Sheffield Weds      137\n",
       "Norwich             137\n",
       "Swansea             133\n",
       "Birmingham          133\n",
       "Derby               133\n",
       "Portsmouth          133\n",
       "QPR                 118\n",
       "Watford              95\n",
       "Hull                 95\n",
       "Ipswich              80\n",
       "Nott'm Forest        78\n",
       "Burnley              76\n",
       "Wolves               76\n",
       "Reading              57\n",
       "Bournemouth          57\n",
       "Sheffield United     40\n",
       "Bradford             38\n",
       "Oldham               21\n",
       "Swindon              21\n",
       "Middlesboro          19\n",
       "Cardiff              19\n",
       "Barnsley             19\n",
       "Huddersfield         19\n",
       "Brighton             19\n",
       "Blackpool            19\n",
       "Name: HomeTeam, dtype: int64"
      ]
     },
     "execution_count": 39,
     "metadata": {},
     "output_type": "execute_result"
    }
   ],
   "source": [
    "# Jumlah pertandingan kandang yang dimainkan masing-masing tim dari 1993 hingga Mei 2018\n",
    "dataset[\"HomeTeam\"].value_counts(dropna=False)"
   ]
  },
  {
   "cell_type": "code",
   "execution_count": 43,
   "metadata": {},
   "outputs": [
    {
     "data": {
      "image/png": "[encoded data removed]",
      "text/plain": [
       "<Figure size 1224x432 with 1 Axes>"
      ]
     },
     "metadata": {
      "needs_background": "light"
     },
     "output_type": "display_data"
    }
   ],
   "source": [
    "plt.figure(figsize=(17, 6))\n",
    "sns.countplot(x='HomeTeam', data=dataset)\n",
    "plt.xticks(rotation='vertical')\n",
    "plt.show()"
   ]
  },
  {
   "cell_type": "code",
   "execution_count": 44,
   "metadata": {},
   "outputs": [
    {
     "data": {
      "text/plain": [
       "Man United          479\n",
       "Tottenham           479\n",
       "Liverpool           479\n",
       "Chelsea             479\n",
       "Arsenal             479\n",
       "Everton             479\n",
       "Newcastle           441\n",
       "Aston Villa         441\n",
       "West Ham            422\n",
       "Man City            384\n",
       "Southampton         346\n",
       "Blackburn           327\n",
       "Sunderland          304\n",
       "Fulham              247\n",
       "Middlesbrough       247\n",
       "Bolton              247\n",
       "Leicester           230\n",
       "West Brom           228\n",
       "Leeds               213\n",
       "Stoke               190\n",
       "Coventry            156\n",
       "Crystal Palace      154\n",
       "Wigan               152\n",
       "Charlton            152\n",
       "Wimbledon           137\n",
       "Norwich             137\n",
       "Sheffield Weds      137\n",
       "Birmingham          133\n",
       "Derby               133\n",
       "Swansea             133\n",
       "Portsmouth          133\n",
       "QPR                 118\n",
       "Hull                 95\n",
       "Watford              95\n",
       "Ipswich              80\n",
       "Nott'm Forest        78\n",
       "Wolves               76\n",
       "Burnley              76\n",
       "Bournemouth          57\n",
       "Reading              57\n",
       "Sheffield United     40\n",
       "Bradford             38\n",
       "Swindon              21\n",
       "Oldham               21\n",
       "Middlesboro          19\n",
       "Huddersfield         19\n",
       "Barnsley             19\n",
       "Cardiff              19\n",
       "Brighton             19\n",
       "Blackpool            19\n",
       "Name: AwayTeam, dtype: int64"
      ]
     },
     "execution_count": 44,
     "metadata": {},
     "output_type": "execute_result"
    }
   ],
   "source": [
    "# Jumlah pertandingan tandang yang dimainkan masing-masing tim dari 1993 hingga Mei 2018\n",
    "dataset[\"AwayTeam\"].value_counts(dropna=False)"
   ]
  },
  {
   "cell_type": "code",
   "execution_count": 45,
   "metadata": {},
   "outputs": [
    {
     "data": {
      "image/png": "[encoded data removed]",
      "text/plain": [
       "<Figure size 1224x432 with 1 Axes>"
      ]
     },
     "metadata": {
      "needs_background": "light"
     },
     "output_type": "display_data"
    }
   ],
   "source": [
    "plt.figure(figsize=(17, 6))\n",
    "sns.countplot(x='AwayTeam', data=dataset)\n",
    "plt.xticks(rotation='vertical')\n",
    "plt.show()"
   ]
  },
  {
   "cell_type": "code",
   "execution_count": 51,
   "metadata": {},
   "outputs": [],
   "source": [
    "# Jumlah pertandingan yang dimenangkan tim di setiap musim\n",
    "\n",
    "## Definisikan dahulu menggunakan kolom baru bernama 'Winner' \n",
    "## untuk setiap pertandingan\n",
    "conditions = [dataset['FTR']=='A',dataset['FTR']=='H',dataset['FTR']=='D']\n",
    "conditions\n",
    "select = [dataset['AwayTeam'],dataset['HomeTeam'],'Draw']\n",
    "dataset['Winner']=np.select(conditions, select)"
   ]
  },
  {
   "cell_type": "code",
   "execution_count": 52,
   "metadata": {},
   "outputs": [
    {
     "data": {
      "text/html": [
       "<div>\n",
       "<style scoped>\n",
       "    .dataframe tbody tr th:only-of-type {\n",
       "        vertical-align: middle;\n",
       "    }\n",
       "\n",
       "    .dataframe tbody tr th {\n",
       "        vertical-align: top;\n",
       "    }\n",
       "\n",
       "    .dataframe thead th {\n",
       "        text-align: right;\n",
       "    }\n",
       "</style>\n",
       "<table border=\"1\" class=\"dataframe\">\n",
       "  <thead>\n",
       "    <tr style=\"text-align: right;\">\n",
       "      <th></th>\n",
       "      <th>Season</th>\n",
       "      <th>Winner</th>\n",
       "      <th>counts</th>\n",
       "    </tr>\n",
       "  </thead>\n",
       "  <tbody>\n",
       "    <tr>\n",
       "      <th>5</th>\n",
       "      <td>1993-94</td>\n",
       "      <td>Draw</td>\n",
       "      <td>142</td>\n",
       "    </tr>\n",
       "    <tr>\n",
       "      <th>11</th>\n",
       "      <td>1993-94</td>\n",
       "      <td>Man United</td>\n",
       "      <td>27</td>\n",
       "    </tr>\n",
       "    <tr>\n",
       "      <th>2</th>\n",
       "      <td>1993-94</td>\n",
       "      <td>Blackburn</td>\n",
       "      <td>25</td>\n",
       "    </tr>\n",
       "    <tr>\n",
       "      <th>12</th>\n",
       "      <td>1993-94</td>\n",
       "      <td>Newcastle</td>\n",
       "      <td>23</td>\n",
       "    </tr>\n",
       "    <tr>\n",
       "      <th>0</th>\n",
       "      <td>1993-94</td>\n",
       "      <td>Arsenal</td>\n",
       "      <td>18</td>\n",
       "    </tr>\n",
       "    <tr>\n",
       "      <th>...</th>\n",
       "      <td>...</td>\n",
       "      <td>...</td>\n",
       "      <td>...</td>\n",
       "    </tr>\n",
       "    <tr>\n",
       "      <th>516</th>\n",
       "      <td>2017-18</td>\n",
       "      <td>Huddersfield</td>\n",
       "      <td>9</td>\n",
       "    </tr>\n",
       "    <tr>\n",
       "      <th>524</th>\n",
       "      <td>2017-18</td>\n",
       "      <td>Swansea</td>\n",
       "      <td>8</td>\n",
       "    </tr>\n",
       "    <tr>\n",
       "      <th>522</th>\n",
       "      <td>2017-18</td>\n",
       "      <td>Southampton</td>\n",
       "      <td>7</td>\n",
       "    </tr>\n",
       "    <tr>\n",
       "      <th>523</th>\n",
       "      <td>2017-18</td>\n",
       "      <td>Stoke</td>\n",
       "      <td>7</td>\n",
       "    </tr>\n",
       "    <tr>\n",
       "      <th>527</th>\n",
       "      <td>2017-18</td>\n",
       "      <td>West Brom</td>\n",
       "      <td>6</td>\n",
       "    </tr>\n",
       "  </tbody>\n",
       "</table>\n",
       "<p>529 rows × 3 columns</p>\n",
       "</div>"
      ],
      "text/plain": [
       "      Season        Winner  counts\n",
       "5    1993-94          Draw     142\n",
       "11   1993-94    Man United      27\n",
       "2    1993-94     Blackburn      25\n",
       "12   1993-94     Newcastle      23\n",
       "0    1993-94       Arsenal      18\n",
       "..       ...           ...     ...\n",
       "516  2017-18  Huddersfield       9\n",
       "524  2017-18       Swansea       8\n",
       "522  2017-18   Southampton       7\n",
       "523  2017-18         Stoke       7\n",
       "527  2017-18     West Brom       6\n",
       "\n",
       "[529 rows x 3 columns]"
      ]
     },
     "execution_count": 52,
     "metadata": {},
     "output_type": "execute_result"
    }
   ],
   "source": [
    "## Menampilkan jumlah pertandingan masing-masing \n",
    "## tim yang dimenangkan di seluruh musim yang dilalui\n",
    "swin = dataset.loc[:,['Season','Winner']]\n",
    "gswin = swin.groupby(['Season', 'Winner']).size().reset_index(name='counts')\n",
    "gsort = gswin.sort_values(['Season', 'counts'], ascending=[True, False])\n",
    "gsort"
   ]
  },
  {
   "cell_type": "code",
   "execution_count": 55,
   "metadata": {
    "scrolled": true
   },
   "outputs": [
    {
     "data": {
      "text/plain": [
       "<AxesSubplot:xlabel='Winner', ylabel='count'>"
      ]
     },
     "execution_count": 55,
     "metadata": {},
     "output_type": "execute_result"
    },
    {
     "data": {
      "image/png": "[encoded data removed]",
      "text/plain": [
       "<Figure size 1224x432 with 1 Axes>"
      ]
     },
     "metadata": {
      "needs_background": "light"
     },
     "output_type": "display_data"
    }
   ],
   "source": [
    "rem_draws = gsort[gsort.Winner.str.contains('Draw')==False].reset_index()\n",
    "rem_draws\n",
    "\n",
    "most_wins= rem_draws.groupby('Season').head(1)\n",
    "most_wins\n",
    "plt.figure(figsize=(17, 6))\n",
    "sns.countplot(x='Winner', data=most_wins)"
   ]
  },
  {
   "cell_type": "markdown",
   "metadata": {},
   "source": [
    "Dari plot di atas, terlihat jelas bahwa Manchester United adalah tim dengan jumlah kemenangan terbanyak setiap musim."
   ]
  },
  {
   "cell_type": "code",
   "execution_count": 54,
   "metadata": {},
   "outputs": [
    {
     "data": {
      "image/png": "[encoded data removed]",
      "text/plain": [
       "<Figure size 1080x576 with 1 Axes>"
      ]
     },
     "metadata": {
      "needs_background": "light"
     },
     "output_type": "display_data"
    }
   ],
   "source": [
    "# Melihat jumlah gol di setiap seasonnya\n",
    "dataset['Total Goals']= dataset['FTHG'] + dataset['FTAG']\n",
    "loca = dataset.loc[:,['Season','Total Goals']]\n",
    "summ =loca.groupby('Season').sum().reset_index()\n",
    "tot = summ['Total Goals']\n",
    "plt.figure(figsize=(15,8))\n",
    "grid=sns.barplot(x='Season',y='Total Goals',data=summ,color='brown')\n",
    "grid.set_xticklabels(summ['Season'],rotation=90)\n",
    "plt.axhline(tot.mean())\n",
    "plt.show()"
   ]
  },
  {
   "cell_type": "markdown",
   "metadata": {},
   "source": [
    "data plot di atas, hanya musim 1993-94 dan 94-95 yang memiliki nilai jumlah gol lebih tinggi dari rata-rata dan awal 2010-2014 sedikit lebih tinggi dari nilai rata-rata."
   ]
  },
  {
   "cell_type": "code",
   "execution_count": 65,
   "metadata": {},
   "outputs": [
    {
     "name": "stdout",
     "output_type": "stream",
     "text": [
      "Prosentase tim kandang mencetak gol:  62.67\n"
     ]
    }
   ],
   "source": [
    "# Berapa persentase keuntungan sebagai tim kandang \n",
    "# untuk mencetak gol?\n",
    "epl_results_nodraw = dataset[dataset.Winner.str.contains('Draw')==False]\n",
    "procentage_goal = len(dataset[dataset['FTR']=='H']) / len(epl_results_nodraw) * 100\n",
    "print(\"Prosentase tim kandang mencetak gol:\", '{:6.2f}'.format(procentage_goal))"
   ]
  },
  {
   "cell_type": "code",
   "execution_count": 66,
   "metadata": {},
   "outputs": [
    {
     "data": {
      "image/png": "[encoded data removed]",
      "text/plain": [
       "<Figure size 1080x576 with 1 Axes>"
      ]
     },
     "metadata": {
      "needs_background": "light"
     },
     "output_type": "display_data"
    }
   ],
   "source": [
    "# 4 tim teratas di setiap musimnya\n",
    "rem_draws1 = gsort[gsort.Winner.str.contains('Draw')==False].reset_index()\n",
    "rem_draws1\n",
    "\n",
    "top4 = rem_draws1.groupby('Season').head(4)\n",
    "valc = top4['Winner'].value_counts().reset_index()\n",
    "plt.figure(figsize=(15,8))\n",
    "grid1=sns.barplot(x='index',y='Winner',data= valc, color='violet')\n",
    "grid1.set_xticklabels(valc['index'],rotation=90)\n",
    "plt.show()"
   ]
  },
  {
   "cell_type": "markdown",
   "metadata": {},
   "source": [
    "Berdasarkan plot di atas, Manchester United tetap memimpin dengan masuk 4 tim teratas dengan jumlah leih dari 20 kali"
   ]
  },
  {
   "cell_type": "markdown",
   "metadata": {},
   "source": [
    "### Model Definition"
   ]
  },
  {
   "cell_type": "code",
   "execution_count": 73,
   "metadata": {},
   "outputs": [
    {
     "name": "stdout",
     "output_type": "stream",
     "text": [
      "['14/08/93' 'Arsenal' 'Coventry' 0 3 'A' '1993-94' 'Coventry']\n",
      "[3 5 3 ... 3 9 4]\n"
     ]
    },
    {
     "data": {
      "image/png": "[encoded data removed]",
      "text/plain": [
       "<Figure size 1440x1440 with 2 Axes>"
      ]
     },
     "metadata": {
      "needs_background": "light"
     },
     "output_type": "display_data"
    }
   ],
   "source": [
    "X = dataset.iloc[:,1:-1].values\n",
    "y = dataset.iloc[:,-1].values\n",
    "print(X[0])\n",
    "print(y)\n",
    "\n",
    "## Determining the relevancy of features using heatmap in calculating the outcome variable\n",
    "corrmat = dataset.corr()\n",
    "top_corr_features = corrmat.index\n",
    "plt.figure(figsize=(20,20))\n",
    "#Plotting heat map\n",
    "g=sns.heatmap(dataset[top_corr_features].corr(),annot=True,linewidths=.75)\n",
    "plt.show()"
   ]
  },
  {
   "cell_type": "code",
   "execution_count": null,
   "metadata": {},
   "outputs": [],
   "source": []
  },
  {
   "cell_type": "code",
   "execution_count": null,
   "metadata": {},
   "outputs": [],
   "source": []
  },
  {
   "cell_type": "code",
   "execution_count": null,
   "metadata": {},
   "outputs": [],
   "source": []
  },
  {
   "cell_type": "code",
   "execution_count": null,
   "metadata": {},
   "outputs": [],
   "source": []
  },
  {
   "cell_type": "code",
   "execution_count": null,
   "metadata": {},
   "outputs": [],
   "source": []
  },
  {
   "cell_type": "code",
   "execution_count": null,
   "metadata": {},
   "outputs": [],
   "source": []
  },
  {
   "cell_type": "markdown",
   "metadata": {},
   "source": [
    "### Conclusion "
   ]
  },
  {
   "cell_type": "code",
   "execution_count": null,
   "metadata": {},
   "outputs": [],
   "source": []
  },
  {
   "cell_type": "code",
   "execution_count": null,
   "metadata": {},
   "outputs": [],
   "source": []
  }
 ],
 "metadata": {
  "kernelspec": {
   "display_name": "Python 3",
   "language": "python",
   "name": "python3"
  },
  "language_info": {
   "codemirror_mode": {
    "name": "ipython",
    "version": 3
   },
   "file_extension": ".py",
   "mimetype": "text/x-python",
   "name": "python",
   "nbconvert_exporter": "python",
   "pygments_lexer": "ipython3",
   "version": "3.8.5"
  }
 },
 "nbformat": 4,
 "nbformat_minor": 4
}
